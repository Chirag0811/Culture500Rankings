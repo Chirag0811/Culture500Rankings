{
 "cells": [
  {
   "cell_type": "code",
   "execution_count": 42,
   "metadata": {},
   "outputs": [
    {
     "name": "stdout",
     "output_type": "stream",
     "text": [
      "Requirement already satisfied: selenium in c:\\users\\chirag\\anaconda3\\lib\\site-packages (3.141.0)\n",
      "Requirement already satisfied: urllib3 in c:\\users\\chirag\\anaconda3\\lib\\site-packages (from selenium) (1.25.8)\n",
      "Requirement already satisfied: pandas in c:\\users\\chirag\\anaconda3\\lib\\site-packages (1.0.1)\n",
      "Requirement already satisfied: pytz>=2017.2 in c:\\users\\chirag\\anaconda3\\lib\\site-packages (from pandas) (2019.3)\n",
      "Requirement already satisfied: numpy>=1.13.3 in c:\\users\\chirag\\anaconda3\\lib\\site-packages (from pandas) (1.18.1)\n",
      "Requirement already satisfied: python-dateutil>=2.6.1 in c:\\users\\chirag\\anaconda3\\lib\\site-packages (from pandas) (2.8.1)\n",
      "Requirement already satisfied: six>=1.5 in c:\\users\\chirag\\anaconda3\\lib\\site-packages (from python-dateutil>=2.6.1->pandas) (1.14.0)\n"
     ]
    }
   ],
   "source": [
    "!pip install selenium\n",
    "!pip install pandas"
   ]
  },
  {
   "cell_type": "code",
   "execution_count": 43,
   "metadata": {},
   "outputs": [],
   "source": [
    "import os\n",
    "if os.name == 'nt':\n",
    "    CHROMEDRIVER_PATH=\"./chromedriver 91\"\n",
    "else:\n",
    "    CHROMEDRIVER_PATH=\"./chromedriver 91\"\n"
   ]
  },
  {
   "cell_type": "code",
   "execution_count": 44,
   "metadata": {},
   "outputs": [],
   "source": [
    "from selenium import webdriver       \n",
    "import time  \n",
    "import pandas as pd\n",
    "from selenium.webdriver.common.by import By\n",
    "from selenium.webdriver.chrome.options import Options\n",
    "from selenium.webdriver.support.ui import WebDriverWait"
   ]
  },
  {
   "cell_type": "code",
   "execution_count": 45,
   "metadata": {},
   "outputs": [],
   "source": [
    "options = Options()\n",
    "options.add_argument('--headless')\n",
    "options.add_argument('--disable-gpu')\n",
    "browser = webdriver.Chrome(CHROMEDRIVER_PATH,options=options)\n"
   ]
  },
  {
   "cell_type": "code",
   "execution_count": 46,
   "metadata": {},
   "outputs": [],
   "source": [
    "rankings = []\n",
    "companies = []\n",
    "industries = []\n",
    "standard_deviation = []"
   ]
  },
  {
   "cell_type": "raw",
   "metadata": {},
   "source": []
  },
  {
   "cell_type": "code",
   "execution_count": 47,
   "metadata": {},
   "outputs": [],
   "source": [
    "class wait_for_new_api(object):\n",
    "  def __init__(self):\n",
    "      \n",
    "      pass\n",
    "\n",
    "  def __call__(self, driver):    \n",
    "    element = driver.execute_script(\"return document.getElementsByClassName('hrLuDa')&&document.getElementsByClassName('hrLuDa').length==1 \") \n",
    "    if element == True :\n",
    "        return element\n",
    "    else:\n",
    "        return False"
   ]
  },
  {
   "cell_type": "code",
   "execution_count": 48,
   "metadata": {},
   "outputs": [],
   "source": [
    "wait = WebDriverWait(browser, 10)\n",
    "for j in range(17):\n",
    "    browser.get('https://sloanreview.mit.edu/culture500/rankings/agility?page='+str(j+1))\n",
    "    element = wait.until(wait_for_new_api())\n",
    "    for i in range(len(browser.execute_script(\"return document.getElementsByClassName('RankingsGrid__Order-ai7p57-3 ifJeWx')\"))):\n",
    "        rankings.append(browser.execute_script(\"return document.getElementsByClassName('RankingsGrid__Order-ai7p57-3 ifJeWx')[\"+str(i)+\"].innerText\"))\n",
    "    for i in range(len(browser.execute_script(\"return document.getElementsByClassName('sc-bdVaJa RankingsGrid__CompanyName-ai7p57-5 iZqVSj')\"))):\n",
    "        companies.append( browser.execute_script(\"return document.getElementsByClassName('sc-bdVaJa RankingsGrid__CompanyName-ai7p57-5 iZqVSj')[\"+str(i)+\"].innerText\"))\n",
    "    for i in range(len(browser.execute_script(\"return document.getElementsByClassName('sc-bdVaJa sc-htpNat iqVRZu')\"))):\n",
    "        industries.append( browser.execute_script(\"return document.getElementsByClassName('sc-bdVaJa sc-htpNat iqVRZu')[\"+str(i)+\"].innerText\"))\n",
    "    for i in range(len(browser.execute_script(\"return document.getElementsByClassName('bOkgs')\"))):\n",
    "        standard_deviation.append( browser.execute_script(\"return document.getElementsByClassName('bOkgs')[\"+str(i)+\"].innerText\"))"
   ]
  },
  {
   "cell_type": "code",
   "execution_count": 49,
   "metadata": {},
   "outputs": [],
   "source": [
    "df = pd.DataFrame(list(zip(rankings,companies,industries,standard_deviation)),\n",
    "                  columns =['Rankings','Companies','Industries','Standard deviation'])\n",
    "                "
   ]
  },
  {
   "cell_type": "code",
   "execution_count": 50,
   "metadata": {},
   "outputs": [],
   "source": [
    "browser.quit()"
   ]
  },
  {
   "cell_type": "code",
   "execution_count": 51,
   "metadata": {},
   "outputs": [],
   "source": [
    "df.to_excel('Agility.xlsx',index=False)"
   ]
  },
  {
   "cell_type": "code",
   "execution_count": null,
   "metadata": {},
   "outputs": [],
   "source": []
  }
 ],
 "metadata": {
  "kernelspec": {
   "display_name": "Python 3",
   "language": "python",
   "name": "python3"
  },
  "language_info": {
   "codemirror_mode": {
    "name": "ipython",
    "version": 3
   },
   "file_extension": ".py",
   "mimetype": "text/x-python",
   "name": "python",
   "nbconvert_exporter": "python",
   "pygments_lexer": "ipython3",
   "version": "3.7.6"
  }
 },
 "nbformat": 4,
 "nbformat_minor": 4
}
